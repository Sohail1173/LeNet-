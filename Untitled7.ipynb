{
  "nbformat": 4,
  "nbformat_minor": 0,
  "metadata": {
    "colab": {
      "provenance": [],
      "authorship_tag": "ABX9TyNSLhLPCiyx8zEB+zoZbN4z",
      "include_colab_link": true
    },
    "kernelspec": {
      "name": "python3",
      "display_name": "Python 3"
    },
    "language_info": {
      "name": "python"
    }
  },
  "cells": [
    {
      "cell_type": "markdown",
      "metadata": {
        "id": "view-in-github",
        "colab_type": "text"
      },
      "source": [
        "<a href=\"https://colab.research.google.com/github/Sohail1173/LeNet-/blob/main/Untitled7.ipynb\" target=\"_parent\"><img src=\"https://colab.research.google.com/assets/colab-badge.svg\" alt=\"Open In Colab\"/></a>"
      ]
    },
    {
      "cell_type": "code",
      "execution_count": 21,
      "metadata": {
        "id": "61K687uzCWFS"
      },
      "outputs": [],
      "source": [
        "\n",
        "import keras \n",
        "from keras.datasets import mnist\n",
        "from keras.layers import  Conv2D,MaxPooling2D\n",
        "from keras.layers import Dense,Flatten\n",
        "from keras.models import Sequential"
      ]
    },
    {
      "cell_type": "code",
      "source": [
        "# loading the dataset and performing splitting\n",
        "(x_train,y_train),(x_test,y_test)=mnist.load_data()"
      ],
      "metadata": {
        "id": "wZ_BudX-EoZM"
      },
      "execution_count": 22,
      "outputs": []
    },
    {
      "cell_type": "code",
      "source": [
        "#performing reshaping operation\n",
        "x_train=x_train.reshape(x_train.shape[0],28,28,1)\n",
        "x_test=x_test.reshape(x_test.shape[0],28,28,1)"
      ],
      "metadata": {
        "id": "byj05bHgE8wG"
      },
      "execution_count": 23,
      "outputs": []
    },
    {
      "cell_type": "code",
      "source": [
        "#normalization"
      ],
      "metadata": {
        "id": "SsZnboAnFx30"
      },
      "execution_count": 24,
      "outputs": []
    },
    {
      "cell_type": "code",
      "source": [
        "x_train=x_train/255\n",
        "x_test=x_test/255"
      ],
      "metadata": {
        "id": "3hlA7nt6F09G"
      },
      "execution_count": 25,
      "outputs": []
    },
    {
      "cell_type": "code",
      "source": [
        "# one hot encoding"
      ],
      "metadata": {
        "id": "vZymgcWhF8r7"
      },
      "execution_count": 26,
      "outputs": []
    },
    {
      "cell_type": "code",
      "source": [
        "y_train=keras.utils.to_categorical(y_train,10)\n",
        "y_test=keras.utils.to_categorical(y_test,10)"
      ],
      "metadata": {
        "id": "z_goktPlGAOB"
      },
      "execution_count": 27,
      "outputs": []
    },
    {
      "cell_type": "code",
      "source": [
        "# building the model archetecture"
      ],
      "metadata": {
        "id": "SS3xOrZZGajv"
      },
      "execution_count": 28,
      "outputs": []
    },
    {
      "cell_type": "code",
      "source": [
        "model=Sequential()\n",
        "# Select 6 feature convolution kernels with a size of 5 * 5 (without offset), and get 66 feature maps. The size of each feature map is 32−5 + 1 = 32−5 + 1 = 28.\n",
        "# That is, the number of neurons has been reduced from 10241024 to 28 ∗ 28 = 784 28 ∗ 28 = 784.\n",
        "# Parameters between input layer and C1 layer: 6 ∗ (5 ∗ 5 + 1)\n",
        "model.add(Conv2D(6, kernel_size=(5, 5), activation='relu', input_shape=(28, 28, 1)))\n",
        "# The input of this layer is the output of the first layer, which is a 28 * 28 * 6 node matrix.\n",
        "# The size of the filter used in this layer is 2 * 2, and the step length and width are both 2, so the output matrix size of this layer is 14 * 14 * 6.\n",
        "model.add(MaxPooling2D(pool_size=(2, 2)))\n",
        "# The input matrix size of this layer is 14 * 14 * 6, the filter size used is 5 * 5, and the depth is 16. This layer does not use all 0 padding, and the step size is 1.\n",
        "# The output matrix size of this layer is 10 * 10 * 16. This layer has 5 * 5 * 6 * 16 + 16 = 2416 parameters\n",
        "model.add(Conv2D(16, kernel_size=(5, 5), activation='relu'))\n",
        "# The input matrix size of this layer is 10 * 10 * 16. The size of the filter used in this layer is 2 * 2, and the length and width steps are both 2, so the output matrix size of this layer is 5 * 5 * 16.\n",
        "model.add(MaxPooling2D(pool_size=(2, 2)))\n",
        "# The input matrix size of this layer is 5 * 5 * 16. This layer is called a convolution layer in the LeNet-5 paper, but because the size of the filter is 5 * 5, #\n",
        "# So it is not different from the fully connected layer. If the nodes in the 5 * 5 * 16 matrix are pulled into a vector, then this layer is the same as the fully connected layer.\n",
        "# The number of output nodes in this layer is 120, with a total of 5 * 5 * 16 * 120 + 120 = 48120 parameters.\n",
        "model.add(Flatten())\n",
        "model.add(Dense(120, activation='relu'))\n",
        "# The number of input nodes in this layer is 120 and the number of output nodes is 84. The total parameter is 120 * 84 + 84 = 10164 (w + b)\n",
        "model.add(Dense(84, activation='relu'))\n",
        "# The number of input nodes in this layer is 84 and the number of output nodes is 10. The total parameter is 84 * 10 + 10 = 850\n",
        "model.add(Dense(10, activation='softmax'))\n",
        "\n",
        "model.summary()\n",
        "model.compile(loss=keras.metrics.categorical_crossentropy, optimizer=keras.optimizers.Adam(), metrics=['accuracy'])\n",
        "model.fit(x_train, y_train, batch_size=128, epochs=20, verbose=1, validation_data=(x_test, y_test))\n",
        "score = model.evaluate(x_test, y_test)\n",
        "print('Test Loss:', score[0])\n",
        "print('Test accuracy:', score[1])\n"
      ],
      "metadata": {
        "colab": {
          "base_uri": "https://localhost:8080/"
        },
        "id": "a0CtDYcaGfbX",
        "outputId": "0f0a15df-da40-49b5-896c-5fc5277957c5"
      },
      "execution_count": 29,
      "outputs": [
        {
          "output_type": "stream",
          "name": "stdout",
          "text": [
            "Model: \"sequential_2\"\n",
            "_________________________________________________________________\n",
            " Layer (type)                Output Shape              Param #   \n",
            "=================================================================\n",
            " conv2d_2 (Conv2D)           (None, 24, 24, 6)         156       \n",
            "                                                                 \n",
            " max_pooling2d_2 (MaxPooling  (None, 12, 12, 6)        0         \n",
            " 2D)                                                             \n",
            "                                                                 \n",
            " conv2d_3 (Conv2D)           (None, 8, 8, 16)          2416      \n",
            "                                                                 \n",
            " max_pooling2d_3 (MaxPooling  (None, 4, 4, 16)         0         \n",
            " 2D)                                                             \n",
            "                                                                 \n",
            " flatten_1 (Flatten)         (None, 256)               0         \n",
            "                                                                 \n",
            " dense_3 (Dense)             (None, 120)               30840     \n",
            "                                                                 \n",
            " dense_4 (Dense)             (None, 84)                10164     \n",
            "                                                                 \n",
            " dense_5 (Dense)             (None, 10)                850       \n",
            "                                                                 \n",
            "=================================================================\n",
            "Total params: 44,426\n",
            "Trainable params: 44,426\n",
            "Non-trainable params: 0\n",
            "_________________________________________________________________\n",
            "Epoch 1/20\n",
            "469/469 [==============================] - 34s 71ms/step - loss: 0.3141 - accuracy: 0.9100 - val_loss: 0.0913 - val_accuracy: 0.9724\n",
            "Epoch 2/20\n",
            "469/469 [==============================] - 24s 52ms/step - loss: 0.0818 - accuracy: 0.9750 - val_loss: 0.0566 - val_accuracy: 0.9813\n",
            "Epoch 3/20\n",
            "469/469 [==============================] - 26s 55ms/step - loss: 0.0564 - accuracy: 0.9826 - val_loss: 0.0405 - val_accuracy: 0.9865\n",
            "Epoch 4/20\n",
            "469/469 [==============================] - 24s 52ms/step - loss: 0.0450 - accuracy: 0.9854 - val_loss: 0.0410 - val_accuracy: 0.9860\n",
            "Epoch 5/20\n",
            "469/469 [==============================] - 25s 53ms/step - loss: 0.0362 - accuracy: 0.9885 - val_loss: 0.0404 - val_accuracy: 0.9856\n",
            "Epoch 6/20\n",
            "469/469 [==============================] - 25s 52ms/step - loss: 0.0315 - accuracy: 0.9895 - val_loss: 0.0369 - val_accuracy: 0.9885\n",
            "Epoch 7/20\n",
            "469/469 [==============================] - 24s 52ms/step - loss: 0.0269 - accuracy: 0.9912 - val_loss: 0.0331 - val_accuracy: 0.9895\n",
            "Epoch 8/20\n",
            "469/469 [==============================] - 24s 52ms/step - loss: 0.0251 - accuracy: 0.9921 - val_loss: 0.0293 - val_accuracy: 0.9912\n",
            "Epoch 9/20\n",
            "469/469 [==============================] - 25s 52ms/step - loss: 0.0221 - accuracy: 0.9926 - val_loss: 0.0336 - val_accuracy: 0.9898\n",
            "Epoch 10/20\n",
            "469/469 [==============================] - 24s 52ms/step - loss: 0.0188 - accuracy: 0.9937 - val_loss: 0.0439 - val_accuracy: 0.9878\n",
            "Epoch 11/20\n",
            "469/469 [==============================] - 25s 52ms/step - loss: 0.0167 - accuracy: 0.9943 - val_loss: 0.0322 - val_accuracy: 0.9896\n",
            "Epoch 12/20\n",
            "469/469 [==============================] - 24s 52ms/step - loss: 0.0147 - accuracy: 0.9951 - val_loss: 0.0282 - val_accuracy: 0.9916\n",
            "Epoch 13/20\n",
            "469/469 [==============================] - 24s 51ms/step - loss: 0.0128 - accuracy: 0.9959 - val_loss: 0.0344 - val_accuracy: 0.9906\n",
            "Epoch 14/20\n",
            "469/469 [==============================] - 26s 55ms/step - loss: 0.0119 - accuracy: 0.9960 - val_loss: 0.0368 - val_accuracy: 0.9898\n",
            "Epoch 15/20\n",
            "469/469 [==============================] - 24s 52ms/step - loss: 0.0121 - accuracy: 0.9958 - val_loss: 0.0315 - val_accuracy: 0.9911\n",
            "Epoch 16/20\n",
            "469/469 [==============================] - 24s 52ms/step - loss: 0.0100 - accuracy: 0.9966 - val_loss: 0.0460 - val_accuracy: 0.9881\n",
            "Epoch 17/20\n",
            "469/469 [==============================] - 24s 52ms/step - loss: 0.0103 - accuracy: 0.9966 - val_loss: 0.0316 - val_accuracy: 0.9910\n",
            "Epoch 18/20\n",
            "469/469 [==============================] - 24s 52ms/step - loss: 0.0071 - accuracy: 0.9976 - val_loss: 0.0388 - val_accuracy: 0.9887\n",
            "Epoch 19/20\n",
            "469/469 [==============================] - 24s 52ms/step - loss: 0.0077 - accuracy: 0.9974 - val_loss: 0.0454 - val_accuracy: 0.9883\n",
            "Epoch 20/20\n",
            "469/469 [==============================] - 24s 52ms/step - loss: 0.0079 - accuracy: 0.9972 - val_loss: 0.0384 - val_accuracy: 0.9905\n",
            "313/313 [==============================] - 3s 8ms/step - loss: 0.0384 - accuracy: 0.9905\n",
            "Test Loss: 0.03837969899177551\n",
            "Test accuracy: 0.9904999732971191\n"
          ]
        }
      ]
    }
  ]
}